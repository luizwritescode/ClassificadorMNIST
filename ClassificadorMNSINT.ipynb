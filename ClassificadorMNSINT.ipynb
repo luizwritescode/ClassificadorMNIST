{
 "cells": [
  {
   "cell_type": "code",
   "execution_count": 2,
   "metadata": {},
   "outputs": [
    {
     "name": "stdout",
     "output_type": "stream",
     "text": [
      "(60000, 28, 28, 1)\n",
      "(10000, 28, 28, 1)\n"
     ]
    }
   ],
   "source": [
    "import tensorflow as tf\n",
    "from tensorflow.keras.datasets import mnist\n",
    "from tensorflow.keras.models import Sequential\n",
    "from tensorflow.keras.layers import Conv2D, MaxPooling2D, Flatten, Dense\n",
    "from tensorflow.keras.utils import to_categorical\n",
    "\n",
    "import matplotlib.pyplot as plt\n",
    "\n",
    "# Carregar os dados do MNIST e dividi-los em treino e teste\n",
    "(train_images, train_labels), (test_images, test_labels) = mnist.load_data()\n",
    "\n",
    "# Pré-processamento dos dados\n",
    "# Redimensionar as imagens e normalizar os valores dos pixels de 0-255 para 0-1\n",
    "train_images = train_images.reshape((60000, 28, 28, 1)).astype('float32') / 255\n",
    "test_images = test_images.reshape((10000, 28, 28, 1)).astype('float32') / 255\n",
    "\n",
    "train_labels = to_categorical(train_labels)\n",
    "test_labels = to_categorical(test_labels)\n",
    "\n",
    "print(train_images.shape)\n",
    "print(test_images.shape)\n"
   ]
  },
  {
   "cell_type": "code",
   "execution_count": 3,
   "metadata": {},
   "outputs": [
    {
     "name": "stdout",
     "output_type": "stream",
     "text": [
      "Epoch 1/5\n",
      "938/938 [==============================] - 24s 25ms/step - loss: 0.1759 - accuracy: 0.9470 - val_loss: 0.0444 - val_accuracy: 0.9850\n",
      "Epoch 2/5\n",
      "938/938 [==============================] - 23s 25ms/step - loss: 0.0496 - accuracy: 0.9844 - val_loss: 0.0402 - val_accuracy: 0.9874\n",
      "Epoch 3/5\n",
      "938/938 [==============================] - 22s 24ms/step - loss: 0.0365 - accuracy: 0.9884 - val_loss: 0.0289 - val_accuracy: 0.9906\n",
      "Epoch 4/5\n",
      "938/938 [==============================] - 22s 24ms/step - loss: 0.0278 - accuracy: 0.9909 - val_loss: 0.0302 - val_accuracy: 0.9911\n",
      "Epoch 5/5\n",
      "938/938 [==============================] - 22s 24ms/step - loss: 0.0215 - accuracy: 0.9934 - val_loss: 0.0241 - val_accuracy: 0.9931\n",
      "313/313 [==============================] - 2s 5ms/step - loss: 0.0241 - accuracy: 0.9931\n",
      "Test accuracy: 0.9930999875068665\n"
     ]
    }
   ],
   "source": [
    "# Construir o modelo CNN\n",
    "# Conv2D -> MaxPooling2D -> Conv2D -> MaxPooling2D -> Conv2D -> Flatten -> Dense -> Dense\n",
    "# Conv2D: filtros percorrem a imagem e extraem features\n",
    "# MaxPooling2D: reduz a dimensionalidade da imagem, mantendo as features e propensão a overfitting\n",
    "# Flatten: transforma a matriz de features em um vetor preparando para a camada Dense\n",
    "# Dense: conecta todas as features e então, classifica a imagem com softmax\n",
    "\n",
    "\n",
    "model = Sequential()\n",
    "model.add(Conv2D(32, (3, 3), activation='relu', input_shape=(28, 28, 1)))\n",
    "model.add(MaxPooling2D((2, 2)))\n",
    "model.add(Conv2D(64, (3, 3), activation='relu'))\n",
    "model.add(MaxPooling2D((2, 2)))\n",
    "model.add(Conv2D(64, (3, 3), activation='relu'))\n",
    "model.add(Flatten())\n",
    "model.add(Dense(64, activation='relu'))\n",
    "model.add(Dense(10, activation='softmax'))\n",
    "\n",
    "# Compilar o modelo\n",
    "model.compile(optimizer='adam',\n",
    "              loss='categorical_crossentropy',\n",
    "              metrics=['accuracy'])\n",
    "\n",
    "# Treinar o modelo com 5 epochs e batch_size de 64\n",
    "model.fit(train_images, train_labels, epochs=5, batch_size=64, validation_data=(test_images, test_labels))\n",
    "\n",
    "# Avaliar o modelo\n",
    "test_loss, test_acc = model.evaluate(test_images, test_labels)\n",
    "print('Test accuracy:', test_acc)\n"
   ]
  }
 ],
 "metadata": {
  "kernelspec": {
   "display_name": "ds",
   "language": "python",
   "name": "python3"
  },
  "language_info": {
   "codemirror_mode": {
    "name": "ipython",
    "version": 3
   },
   "file_extension": ".py",
   "mimetype": "text/x-python",
   "name": "python",
   "nbconvert_exporter": "python",
   "pygments_lexer": "ipython3",
   "version": "3.10.6"
  }
 },
 "nbformat": 4,
 "nbformat_minor": 2
}
